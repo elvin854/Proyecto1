{
 "cells": [
  {
   "cell_type": "code",
   "execution_count": 1,
   "id": "471e8434-d490-41af-b57a-742543339753",
   "metadata": {},
   "outputs": [
    {
     "name": "stdin",
     "output_type": "stream",
     "text": [
      "ingresa el termino de busqueda matrix\n"
     ]
    },
    {
     "name": "stdout",
     "output_type": "stream",
     "text": [
      "   Unnamed: 0                                              Title Certificate  \\\n",
      "0           0                 1. The Shawshank Redemption (1994)           R   \n",
      "1           1                            2. The Godfather (1972)           R   \n",
      "2           2                          3. The Dark Knight (2008)       PG-13   \n",
      "3           3                   4. The Godfather: Part II (1974)           R   \n",
      "4           4  5. The Lord of the Rings: The Return of the Ki...       PG-13   \n",
      "\n",
      "  Duration                     Genre  Rate  Metascore  \\\n",
      "0  142 min                     Drama   9.3       80.0   \n",
      "1  175 min              Crime, Drama   9.2      100.0   \n",
      "2  152 min      Action, Crime, Drama   9.0       84.0   \n",
      "3  202 min              Crime, Drama   9.0       90.0   \n",
      "4  201 min  Action, Adventure, Drama   8.9       94.0   \n",
      "\n",
      "                                         Description  \\\n",
      "0  Two imprisoned men bond over a number of years...   \n",
      "1  The aging patriarch of an organized crime dyna...   \n",
      "2  When the menace known as the Joker wreaks havo...   \n",
      "3  The early life and career of Vito Corleone in ...   \n",
      "4  Gandalf and Aragorn lead the World of Men agai...   \n",
      "\n",
      "                                                Cast  \\\n",
      "0  Director: Frank Darabont | Stars: Tim Robbins,...   \n",
      "1  Director: Francis Ford Coppola | Stars: Marlon...   \n",
      "2  Director: Christopher Nolan | Stars: Christian...   \n",
      "3  Director: Francis Ford Coppola | Stars: Al Pac...   \n",
      "4  Director: Peter Jackson | Stars: Elijah Wood, ...   \n",
      "\n",
      "                                 Info  \n",
      "0   Votes: 2,295,987 | Gross: $28.34M  \n",
      "1  Votes: 1,584,782 | Gross: $134.97M  \n",
      "2  Votes: 2,260,649 | Gross: $534.86M  \n",
      "3   Votes: 1,107,253 | Gross: $57.30M  \n",
      "4  Votes: 1,614,369 | Gross: $377.85M  \n"
     ]
    }
   ],
   "source": [
    "import pandas as pd\n",
    "\n",
    "def main(query):\n",
    "    df = pd.read_csv('./Pelis1000.csv')\n",
    "    print(df.head())\n",
    "    # TODO: Completar esta función para realizar búsquedas semánticas con base en el código del archivo test.ipynb\n",
    "\n",
    "\n",
    "\n",
    "if __name__ == '__main__':\n",
    "    query = input('ingresa el termino de busqueda')\n",
    "    main(query)"
   ]
  },
  {
   "cell_type": "code",
   "execution_count": 3,
   "id": "739a5979-3ee2-4680-8a31-07566d29309e",
   "metadata": {},
   "outputs": [],
   "source": [
    "import pandas as pd\n",
    "\n",
    "def main(query):\n",
    "    df = pd.read_csv('./Pelis1000.csv')"
   ]
  },
  {
   "cell_type": "code",
   "execution_count": null,
   "id": "00e73880-2d8d-4033-a1d7-1b2f4a89a684",
   "metadata": {},
   "outputs": [],
   "source": []
  }
 ],
 "metadata": {
  "kernelspec": {
   "display_name": "Python 3 (ipykernel)",
   "language": "python",
   "name": "python3"
  },
  "language_info": {
   "codemirror_mode": {
    "name": "ipython",
    "version": 3
   },
   "file_extension": ".py",
   "mimetype": "text/x-python",
   "name": "python",
   "nbconvert_exporter": "python",
   "pygments_lexer": "ipython3",
   "version": "3.12.4"
  }
 },
 "nbformat": 4,
 "nbformat_minor": 5
}
