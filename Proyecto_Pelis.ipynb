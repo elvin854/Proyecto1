{
 "cells": [
  {
   "cell_type": "markdown",
   "id": "01b62b72-cfad-406e-bddd-03a6a893e6e7",
   "metadata": {},
   "source": [
    "<h1>Instalando Dependencias Necesarias</h1>"
   ]
  },
  {
   "cell_type": "code",
   "execution_count": 17,
   "id": "08766c94-80d7-4d15-977a-a1b1551c0f50",
   "metadata": {},
   "outputs": [],
   "source": [
    "%%capture\n",
    "%pip install -U sentence-transformers pandas"
   ]
  },
  {
   "cell_type": "code",
   "execution_count": 18,
   "id": "9466a777-df29-4ecf-9274-d008ba2f145d",
   "metadata": {},
   "outputs": [],
   "source": [
    "import pandas as pd"
   ]
  },
  {
   "cell_type": "markdown",
   "id": "20a53e95-a2b6-4b80-a6e2-30503cb30bc0",
   "metadata": {},
   "source": [
    "<h2>Entendiendo el Dataset</h2>"
   ]
  },
  {
   "cell_type": "code",
   "execution_count": 13,
   "id": "438dbbff-5e8e-4be3-87ff-b2dccf195995",
   "metadata": {},
   "outputs": [],
   "source": [
    "df = pd.read_csv('Pelis1000.csv')"
   ]
  },
  {
   "cell_type": "code",
   "execution_count": 15,
   "id": "1a58caae-2811-49cb-87fd-5078e2cd933b",
   "metadata": {},
   "outputs": [
    {
     "data": {
      "text/html": [
       "<div>\n",
       "<style scoped>\n",
       "    .dataframe tbody tr th:only-of-type {\n",
       "        vertical-align: middle;\n",
       "    }\n",
       "\n",
       "    .dataframe tbody tr th {\n",
       "        vertical-align: top;\n",
       "    }\n",
       "\n",
       "    .dataframe thead th {\n",
       "        text-align: right;\n",
       "    }\n",
       "</style>\n",
       "<table border=\"1\" class=\"dataframe\">\n",
       "  <thead>\n",
       "    <tr style=\"text-align: right;\">\n",
       "      <th></th>\n",
       "      <th>Unnamed: 0</th>\n",
       "      <th>Title</th>\n",
       "      <th>Certificate</th>\n",
       "      <th>Duration</th>\n",
       "      <th>Genre</th>\n",
       "      <th>Rate</th>\n",
       "      <th>Metascore</th>\n",
       "      <th>Description</th>\n",
       "      <th>Cast</th>\n",
       "      <th>Info</th>\n",
       "    </tr>\n",
       "  </thead>\n",
       "  <tbody>\n",
       "    <tr>\n",
       "      <th>0</th>\n",
       "      <td>0</td>\n",
       "      <td>1. The Shawshank Redemption (1994)</td>\n",
       "      <td>R</td>\n",
       "      <td>142 min</td>\n",
       "      <td>Drama</td>\n",
       "      <td>9.3</td>\n",
       "      <td>80.0</td>\n",
       "      <td>Two imprisoned men bond over a number of years...</td>\n",
       "      <td>Director: Frank Darabont | Stars: Tim Robbins,...</td>\n",
       "      <td>Votes: 2,295,987 | Gross: $28.34M</td>\n",
       "    </tr>\n",
       "    <tr>\n",
       "      <th>1</th>\n",
       "      <td>1</td>\n",
       "      <td>2. The Godfather (1972)</td>\n",
       "      <td>R</td>\n",
       "      <td>175 min</td>\n",
       "      <td>Crime, Drama</td>\n",
       "      <td>9.2</td>\n",
       "      <td>100.0</td>\n",
       "      <td>The aging patriarch of an organized crime dyna...</td>\n",
       "      <td>Director: Francis Ford Coppola | Stars: Marlon...</td>\n",
       "      <td>Votes: 1,584,782 | Gross: $134.97M</td>\n",
       "    </tr>\n",
       "    <tr>\n",
       "      <th>2</th>\n",
       "      <td>2</td>\n",
       "      <td>3. The Dark Knight (2008)</td>\n",
       "      <td>PG-13</td>\n",
       "      <td>152 min</td>\n",
       "      <td>Action, Crime, Drama</td>\n",
       "      <td>9.0</td>\n",
       "      <td>84.0</td>\n",
       "      <td>When the menace known as the Joker wreaks havo...</td>\n",
       "      <td>Director: Christopher Nolan | Stars: Christian...</td>\n",
       "      <td>Votes: 2,260,649 | Gross: $534.86M</td>\n",
       "    </tr>\n",
       "    <tr>\n",
       "      <th>3</th>\n",
       "      <td>3</td>\n",
       "      <td>4. The Godfather: Part II (1974)</td>\n",
       "      <td>R</td>\n",
       "      <td>202 min</td>\n",
       "      <td>Crime, Drama</td>\n",
       "      <td>9.0</td>\n",
       "      <td>90.0</td>\n",
       "      <td>The early life and career of Vito Corleone in ...</td>\n",
       "      <td>Director: Francis Ford Coppola | Stars: Al Pac...</td>\n",
       "      <td>Votes: 1,107,253 | Gross: $57.30M</td>\n",
       "    </tr>\n",
       "    <tr>\n",
       "      <th>4</th>\n",
       "      <td>4</td>\n",
       "      <td>5. The Lord of the Rings: The Return of the Ki...</td>\n",
       "      <td>PG-13</td>\n",
       "      <td>201 min</td>\n",
       "      <td>Action, Adventure, Drama</td>\n",
       "      <td>8.9</td>\n",
       "      <td>94.0</td>\n",
       "      <td>Gandalf and Aragorn lead the World of Men agai...</td>\n",
       "      <td>Director: Peter Jackson | Stars: Elijah Wood, ...</td>\n",
       "      <td>Votes: 1,614,369 | Gross: $377.85M</td>\n",
       "    </tr>\n",
       "  </tbody>\n",
       "</table>\n",
       "</div>"
      ],
      "text/plain": [
       "   Unnamed: 0                                              Title Certificate  \\\n",
       "0           0                 1. The Shawshank Redemption (1994)           R   \n",
       "1           1                            2. The Godfather (1972)           R   \n",
       "2           2                          3. The Dark Knight (2008)       PG-13   \n",
       "3           3                   4. The Godfather: Part II (1974)           R   \n",
       "4           4  5. The Lord of the Rings: The Return of the Ki...       PG-13   \n",
       "\n",
       "  Duration                     Genre  Rate  Metascore  \\\n",
       "0  142 min                     Drama   9.3       80.0   \n",
       "1  175 min              Crime, Drama   9.2      100.0   \n",
       "2  152 min      Action, Crime, Drama   9.0       84.0   \n",
       "3  202 min              Crime, Drama   9.0       90.0   \n",
       "4  201 min  Action, Adventure, Drama   8.9       94.0   \n",
       "\n",
       "                                         Description  \\\n",
       "0  Two imprisoned men bond over a number of years...   \n",
       "1  The aging patriarch of an organized crime dyna...   \n",
       "2  When the menace known as the Joker wreaks havo...   \n",
       "3  The early life and career of Vito Corleone in ...   \n",
       "4  Gandalf and Aragorn lead the World of Men agai...   \n",
       "\n",
       "                                                Cast  \\\n",
       "0  Director: Frank Darabont | Stars: Tim Robbins,...   \n",
       "1  Director: Francis Ford Coppola | Stars: Marlon...   \n",
       "2  Director: Christopher Nolan | Stars: Christian...   \n",
       "3  Director: Francis Ford Coppola | Stars: Al Pac...   \n",
       "4  Director: Peter Jackson | Stars: Elijah Wood, ...   \n",
       "\n",
       "                                 Info  \n",
       "0   Votes: 2,295,987 | Gross: $28.34M  \n",
       "1  Votes: 1,584,782 | Gross: $134.97M  \n",
       "2  Votes: 2,260,649 | Gross: $534.86M  \n",
       "3   Votes: 1,107,253 | Gross: $57.30M  \n",
       "4  Votes: 1,614,369 | Gross: $377.85M  "
      ]
     },
     "execution_count": 15,
     "metadata": {},
     "output_type": "execute_result"
    }
   ],
   "source": [
    "# Ver Primeros elementos del dataframe\n",
    "df.head()"
   ]
  },
  {
   "cell_type": "code",
   "execution_count": 41,
   "id": "fc9e8766-05cf-4b8f-8ce2-761712c035f5",
   "metadata": {},
   "outputs": [
    {
     "name": "stdout",
     "output_type": "stream",
     "text": [
      "<class 'pandas.core.frame.DataFrame'>\n",
      "RangeIndex: 1000 entries, 0 to 999\n",
      "Data columns (total 10 columns):\n",
      " #   Column       Non-Null Count  Dtype  \n",
      "---  ------       --------------  -----  \n",
      " 0   Unnamed: 0   1000 non-null   int64  \n",
      " 1   Title        1000 non-null   object \n",
      " 2   Certificate  973 non-null    object \n",
      " 3   Duration     1000 non-null   object \n",
      " 4   Genre        1000 non-null   object \n",
      " 5   Rate         1000 non-null   float64\n",
      " 6   Metascore    712 non-null    float64\n",
      " 7   Description  1000 non-null   object \n",
      " 8   Cast         1000 non-null   object \n",
      " 9   Info         1000 non-null   object \n",
      "dtypes: float64(2), int64(1), object(7)\n",
      "memory usage: 78.3+ KB\n"
     ]
    }
   ],
   "source": [
    "# Muestre la información de los datos de cada Columna\n",
    "df.info()"
   ]
  },
  {
   "cell_type": "code",
   "execution_count": 109,
   "id": "db549d1c-00ed-4b60-9a39-038f392c3874",
   "metadata": {},
   "outputs": [
    {
     "data": {
      "text/html": [
       "<div>\n",
       "<style scoped>\n",
       "    .dataframe tbody tr th:only-of-type {\n",
       "        vertical-align: middle;\n",
       "    }\n",
       "\n",
       "    .dataframe tbody tr th {\n",
       "        vertical-align: top;\n",
       "    }\n",
       "\n",
       "    .dataframe thead th {\n",
       "        text-align: right;\n",
       "    }\n",
       "</style>\n",
       "<table border=\"1\" class=\"dataframe\">\n",
       "  <thead>\n",
       "    <tr style=\"text-align: right;\">\n",
       "      <th></th>\n",
       "      <th>Unnamed: 0</th>\n",
       "      <th>Rate</th>\n",
       "      <th>Metascore</th>\n",
       "    </tr>\n",
       "  </thead>\n",
       "  <tbody>\n",
       "    <tr>\n",
       "      <th>count</th>\n",
       "      <td>1000.000000</td>\n",
       "      <td>1000.000000</td>\n",
       "      <td>712.000000</td>\n",
       "    </tr>\n",
       "    <tr>\n",
       "      <th>mean</th>\n",
       "      <td>499.500000</td>\n",
       "      <td>8.097500</td>\n",
       "      <td>81.001404</td>\n",
       "    </tr>\n",
       "    <tr>\n",
       "      <th>std</th>\n",
       "      <td>288.819436</td>\n",
       "      <td>0.169566</td>\n",
       "      <td>9.811801</td>\n",
       "    </tr>\n",
       "    <tr>\n",
       "      <th>min</th>\n",
       "      <td>0.000000</td>\n",
       "      <td>8.000000</td>\n",
       "      <td>61.000000</td>\n",
       "    </tr>\n",
       "    <tr>\n",
       "      <th>25%</th>\n",
       "      <td>249.750000</td>\n",
       "      <td>8.000000</td>\n",
       "      <td>73.000000</td>\n",
       "    </tr>\n",
       "    <tr>\n",
       "      <th>50%</th>\n",
       "      <td>499.500000</td>\n",
       "      <td>8.000000</td>\n",
       "      <td>82.000000</td>\n",
       "    </tr>\n",
       "    <tr>\n",
       "      <th>75%</th>\n",
       "      <td>749.250000</td>\n",
       "      <td>8.100000</td>\n",
       "      <td>88.250000</td>\n",
       "    </tr>\n",
       "    <tr>\n",
       "      <th>max</th>\n",
       "      <td>999.000000</td>\n",
       "      <td>9.300000</td>\n",
       "      <td>100.000000</td>\n",
       "    </tr>\n",
       "  </tbody>\n",
       "</table>\n",
       "</div>"
      ],
      "text/plain": [
       "        Unnamed: 0         Rate   Metascore\n",
       "count  1000.000000  1000.000000  712.000000\n",
       "mean    499.500000     8.097500   81.001404\n",
       "std     288.819436     0.169566    9.811801\n",
       "min       0.000000     8.000000   61.000000\n",
       "25%     249.750000     8.000000   73.000000\n",
       "50%     499.500000     8.000000   82.000000\n",
       "75%     749.250000     8.100000   88.250000\n",
       "max     999.000000     9.300000  100.000000"
      ]
     },
     "execution_count": 109,
     "metadata": {},
     "output_type": "execute_result"
    }
   ],
   "source": [
    "# Muestre la información de las columnas categoricas\n",
    "df.describe()"
   ]
  },
  {
   "cell_type": "code",
   "execution_count": 111,
   "id": "60f9348e-88ac-49de-8d7f-c904e9ffb098",
   "metadata": {},
   "outputs": [
    {
     "data": {
      "text/plain": [
       "(1000, 11)"
      ]
     },
     "execution_count": 111,
     "metadata": {},
     "output_type": "execute_result"
    }
   ],
   "source": [
    "# Muestre el numero de filas x columnas\n",
    "df.shape"
   ]
  },
  {
   "cell_type": "code",
   "execution_count": 113,
   "id": "84089c06-011e-4770-9f8a-8ecf150591dd",
   "metadata": {},
   "outputs": [
    {
     "data": {
      "text/plain": [
       "Unnamed: 0       int64\n",
       "Title           object\n",
       "Certificate     object\n",
       "Duration        object\n",
       "Genre           object\n",
       "Rate           float64\n",
       "Metascore      float64\n",
       "Description     object\n",
       "Cast            object\n",
       "Info            object\n",
       "embeddings      object\n",
       "dtype: object"
      ]
     },
     "execution_count": 113,
     "metadata": {},
     "output_type": "execute_result"
    }
   ],
   "source": [
    "# Muestre los tipos de datos que existen en las columnas\n",
    "df.dtypes"
   ]
  },
  {
   "cell_type": "markdown",
   "id": "e7bd52c7-0cfd-4e12-b8da-57770bfcc5a0",
   "metadata": {},
   "source": [
    "<h3>\n",
    "Usando Sentence Transformer para Crear Embeddings\n",
    "</h3>"
   ]
  },
  {
   "cell_type": "code",
   "execution_count": 50,
   "id": "13f428ea-74a9-4c13-9153-a37a2db2f78f",
   "metadata": {},
   "outputs": [
    {
     "name": "stdout",
     "output_type": "stream",
     "text": [
      "Requirement already satisfied: sentence-transformers in c:\\users\\elvin torres\\anaconda3\\lib\\site-packages (3.1.1)\n",
      "Requirement already satisfied: transformers<5.0.0,>=4.38.0 in c:\\users\\elvin torres\\anaconda3\\lib\\site-packages (from sentence-transformers) (4.45.2)\n",
      "Requirement already satisfied: tqdm in c:\\users\\elvin torres\\anaconda3\\lib\\site-packages (from sentence-transformers) (4.66.4)\n",
      "Requirement already satisfied: torch>=1.11.0 in c:\\users\\elvin torres\\anaconda3\\lib\\site-packages (from sentence-transformers) (2.4.1)\n",
      "Requirement already satisfied: scikit-learn in c:\\users\\elvin torres\\anaconda3\\lib\\site-packages (from sentence-transformers) (1.4.2)\n",
      "Requirement already satisfied: scipy in c:\\users\\elvin torres\\anaconda3\\lib\\site-packages (from sentence-transformers) (1.13.1)\n",
      "Requirement already satisfied: huggingface-hub>=0.19.3 in c:\\users\\elvin torres\\anaconda3\\lib\\site-packages (from sentence-transformers) (0.25.1)\n",
      "Requirement already satisfied: Pillow in c:\\users\\elvin torres\\anaconda3\\lib\\site-packages (from sentence-transformers) (10.3.0)\n",
      "Requirement already satisfied: filelock in c:\\users\\elvin torres\\anaconda3\\lib\\site-packages (from huggingface-hub>=0.19.3->sentence-transformers) (3.13.1)\n",
      "Requirement already satisfied: fsspec>=2023.5.0 in c:\\users\\elvin torres\\anaconda3\\lib\\site-packages (from huggingface-hub>=0.19.3->sentence-transformers) (2024.3.1)\n",
      "Requirement already satisfied: packaging>=20.9 in c:\\users\\elvin torres\\appdata\\roaming\\python\\python312\\site-packages (from huggingface-hub>=0.19.3->sentence-transformers) (24.1)\n",
      "Requirement already satisfied: pyyaml>=5.1 in c:\\users\\elvin torres\\anaconda3\\lib\\site-packages (from huggingface-hub>=0.19.3->sentence-transformers) (6.0.1)\n",
      "Requirement already satisfied: requests in c:\\users\\elvin torres\\anaconda3\\lib\\site-packages (from huggingface-hub>=0.19.3->sentence-transformers) (2.32.2)\n",
      "Requirement already satisfied: typing-extensions>=3.7.4.3 in c:\\users\\elvin torres\\anaconda3\\lib\\site-packages (from huggingface-hub>=0.19.3->sentence-transformers) (4.11.0)\n",
      "Requirement already satisfied: sympy in c:\\users\\elvin torres\\anaconda3\\lib\\site-packages (from torch>=1.11.0->sentence-transformers) (1.12)\n",
      "Requirement already satisfied: networkx in c:\\users\\elvin torres\\anaconda3\\lib\\site-packages (from torch>=1.11.0->sentence-transformers) (3.2.1)\n",
      "Requirement already satisfied: jinja2 in c:\\users\\elvin torres\\anaconda3\\lib\\site-packages (from torch>=1.11.0->sentence-transformers) (3.1.4)\n",
      "Requirement already satisfied: setuptools in c:\\users\\elvin torres\\anaconda3\\lib\\site-packages (from torch>=1.11.0->sentence-transformers) (69.5.1)\n",
      "Requirement already satisfied: colorama in c:\\users\\elvin torres\\appdata\\roaming\\python\\python312\\site-packages (from tqdm->sentence-transformers) (0.4.6)\n",
      "Requirement already satisfied: numpy>=1.17 in c:\\users\\elvin torres\\anaconda3\\lib\\site-packages (from transformers<5.0.0,>=4.38.0->sentence-transformers) (1.26.4)\n",
      "Requirement already satisfied: regex!=2019.12.17 in c:\\users\\elvin torres\\anaconda3\\lib\\site-packages (from transformers<5.0.0,>=4.38.0->sentence-transformers) (2023.10.3)\n",
      "Requirement already satisfied: safetensors>=0.4.1 in c:\\users\\elvin torres\\anaconda3\\lib\\site-packages (from transformers<5.0.0,>=4.38.0->sentence-transformers) (0.4.5)\n",
      "Requirement already satisfied: tokenizers<0.21,>=0.20 in c:\\users\\elvin torres\\anaconda3\\lib\\site-packages (from transformers<5.0.0,>=4.38.0->sentence-transformers) (0.20.0)\n",
      "Requirement already satisfied: joblib>=1.2.0 in c:\\users\\elvin torres\\anaconda3\\lib\\site-packages (from scikit-learn->sentence-transformers) (1.4.2)\n",
      "Requirement already satisfied: threadpoolctl>=2.0.0 in c:\\users\\elvin torres\\anaconda3\\lib\\site-packages (from scikit-learn->sentence-transformers) (2.2.0)\n",
      "Requirement already satisfied: MarkupSafe>=2.0 in c:\\users\\elvin torres\\anaconda3\\lib\\site-packages (from jinja2->torch>=1.11.0->sentence-transformers) (2.1.3)\n",
      "Requirement already satisfied: charset-normalizer<4,>=2 in c:\\users\\elvin torres\\anaconda3\\lib\\site-packages (from requests->huggingface-hub>=0.19.3->sentence-transformers) (2.0.4)\n",
      "Requirement already satisfied: idna<4,>=2.5 in c:\\users\\elvin torres\\anaconda3\\lib\\site-packages (from requests->huggingface-hub>=0.19.3->sentence-transformers) (3.7)\n",
      "Requirement already satisfied: urllib3<3,>=1.21.1 in c:\\users\\elvin torres\\anaconda3\\lib\\site-packages (from requests->huggingface-hub>=0.19.3->sentence-transformers) (2.2.2)\n",
      "Requirement already satisfied: certifi>=2017.4.17 in c:\\users\\elvin torres\\anaconda3\\lib\\site-packages (from requests->huggingface-hub>=0.19.3->sentence-transformers) (2024.8.30)\n",
      "Requirement already satisfied: mpmath>=0.19 in c:\\users\\elvin torres\\anaconda3\\lib\\site-packages (from sympy->torch>=1.11.0->sentence-transformers) (1.3.0)\n"
     ]
    }
   ],
   "source": [
    "# Instalcion de librerias\n",
    "!pip install sentence-transformers"
   ]
  },
  {
   "cell_type": "code",
   "execution_count": 5,
   "id": "7e0326cc-e567-420b-bb52-8709308c51ef",
   "metadata": {},
   "outputs": [
    {
     "name": "stderr",
     "output_type": "stream",
     "text": [
      "C:\\Users\\ELVIN TORRES\\anaconda3\\Lib\\site-packages\\sentence_transformers\\cross_encoder\\CrossEncoder.py:13: TqdmExperimentalWarning: Using `tqdm.autonotebook.tqdm` in notebook mode. Use `tqdm.tqdm` instead to force console mode (e.g. in jupyter console)\n",
      "  from tqdm.autonotebook import tqdm, trange\n"
     ]
    }
   ],
   "source": [
    "from sentence_transformers import SentenceTransformer, util"
   ]
  },
  {
   "cell_type": "code",
   "execution_count": 21,
   "id": "1856fcbc-a5d3-4e13-9e3d-528d21df8e52",
   "metadata": {},
   "outputs": [],
   "source": [
    "model = SentenceTransformer('sentence-transformers/all-MiniLM-L6-v2')"
   ]
  },
  {
   "cell_type": "code",
   "execution_count": 34,
   "id": "df89b97a-5416-4ab1-9f35-44e6912bcead",
   "metadata": {},
   "outputs": [
    {
     "data": {
      "application/vnd.jupyter.widget-view+json": {
       "model_id": "d6ffbccfbf5a4c249693e8c248cf4328",
       "version_major": 2,
       "version_minor": 0
      },
      "text/plain": [
       "Batches:   0%|          | 0/16 [00:00<?, ?it/s]"
      ]
     },
     "metadata": {},
     "output_type": "display_data"
    }
   ],
   "source": [
    "embeddings = model.encode(df['Description'],batch_size=64,show_progress_bar=True)"
   ]
  },
  {
   "cell_type": "code",
   "execution_count": 25,
   "id": "8c32fc6f-0409-4ff2-909e-c7667bbc1e76",
   "metadata": {},
   "outputs": [
    {
     "name": "stdout",
     "output_type": "stream",
     "text": [
      "   Unnamed: 0                                              Title Certificate  \\\n",
      "0           0                 1. The Shawshank Redemption (1994)           R   \n",
      "1           1                            2. The Godfather (1972)           R   \n",
      "2           2                          3. The Dark Knight (2008)       PG-13   \n",
      "3           3                   4. The Godfather: Part II (1974)           R   \n",
      "4           4  5. The Lord of the Rings: The Return of the Ki...       PG-13   \n",
      "\n",
      "  Duration                     Genre  Rate  Metascore  \\\n",
      "0  142 min                     Drama   9.3       80.0   \n",
      "1  175 min              Crime, Drama   9.2      100.0   \n",
      "2  152 min      Action, Crime, Drama   9.0       84.0   \n",
      "3  202 min              Crime, Drama   9.0       90.0   \n",
      "4  201 min  Action, Adventure, Drama   8.9       94.0   \n",
      "\n",
      "                                         Description  \\\n",
      "0  Two imprisoned men bond over a number of years...   \n",
      "1  The aging patriarch of an organized crime dyna...   \n",
      "2  When the menace known as the Joker wreaks havo...   \n",
      "3  The early life and career of Vito Corleone in ...   \n",
      "4  Gandalf and Aragorn lead the World of Men agai...   \n",
      "\n",
      "                                                Cast  \\\n",
      "0  Director: Frank Darabont | Stars: Tim Robbins,...   \n",
      "1  Director: Francis Ford Coppola | Stars: Marlon...   \n",
      "2  Director: Christopher Nolan | Stars: Christian...   \n",
      "3  Director: Francis Ford Coppola | Stars: Al Pac...   \n",
      "4  Director: Peter Jackson | Stars: Elijah Wood, ...   \n",
      "\n",
      "                                 Info  \n",
      "0   Votes: 2,295,987 | Gross: $28.34M  \n",
      "1  Votes: 1,584,782 | Gross: $134.97M  \n",
      "2  Votes: 2,260,649 | Gross: $534.86M  \n",
      "3   Votes: 1,107,253 | Gross: $57.30M  \n",
      "4  Votes: 1,614,369 | Gross: $377.85M  \n"
     ]
    }
   ],
   "source": [
    "# Visualizar los Primeros elementos del dataframe\n",
    "print(df.head())"
   ]
  },
  {
   "cell_type": "code",
   "execution_count": 29,
   "id": "e91e3850-98b0-49fa-bf5a-810fbccbbc00",
   "metadata": {},
   "outputs": [
    {
     "name": "stdout",
     "output_type": "stream",
     "text": [
      "Index(['Unnamed: 0', 'Title', 'Certificate', 'Duration', 'Genre', 'Rate',\n",
      "       'Metascore', 'Description', 'Cast', 'Info'],\n",
      "      dtype='object')\n"
     ]
    }
   ],
   "source": [
    "# imprima los nombres de las columnas\n",
    "print(df.columns)"
   ]
  },
  {
   "cell_type": "code",
   "execution_count": 38,
   "id": "6c367477-1a9e-4eb0-8976-b7e978bd7747",
   "metadata": {},
   "outputs": [],
   "source": [
    "df['embeddings'] = embeddings.tolist()"
   ]
  },
  {
   "cell_type": "markdown",
   "id": "a62dc38d-6ec5-46d9-99da-13695748b86c",
   "metadata": {},
   "source": [
    "<h1>\n",
    "Calculando la Similitud usando la Métrica de Similitud por Coseno\n",
    "</h1>"
   ]
  },
  {
   "cell_type": "code",
   "execution_count": 42,
   "id": "f893b5b5-35d1-4e20-8b95-56548862f994",
   "metadata": {},
   "outputs": [],
   "source": [
    "def compute_similarity(example, query_embedding):\n",
    "    embedding = example['embeddings'] \n",
    "    similarity = util.cos_sim(embedding, query_embedding).item()\n",
    "    return similarity  "
   ]
  },
  {
   "cell_type": "markdown",
   "id": "16b7a640-faf6-4b4b-81f9-ce710c8534fa",
   "metadata": {},
   "source": [
    "<h1>Ejecuntando la búsqueda</h1>"
   ]
  },
  {
   "cell_type": "code",
   "execution_count": 46,
   "id": "3096caac-906e-42a3-b8ff-169922422614",
   "metadata": {},
   "outputs": [
    {
     "data": {
      "text/plain": [
       "15              16. The Matrix (1999)\n",
       "691    394. Ghost in the Shell (1995)\n",
       "591    394. Ghost in the Shell (1995)\n",
       "491    394. Ghost in the Shell (1995)\n",
       "991    394. Ghost in the Shell (1995)\n",
       "Name: Title, dtype: object"
      ]
     },
     "execution_count": 46,
     "metadata": {},
     "output_type": "execute_result"
    }
   ],
   "source": [
    "query_embedding = model.encode(['matrix'])[0]\n",
    "df['similarity'] = df.apply(lambda x: compute_similarity(x, query_embedding), axis=1)\n",
    "df = df.sort_values(by='similarity', ascending=False)\n",
    "\n",
    "df.head()['Title']"
   ]
  },
  {
   "cell_type": "code",
   "execution_count": null,
   "id": "f4b11760-f6d6-4b79-a40f-67ed113873f5",
   "metadata": {},
   "outputs": [],
   "source": []
  },
  {
   "cell_type": "markdown",
   "id": "daeb63af-3635-4b26-a6af-8197603dc546",
   "metadata": {},
   "source": [
    "<h1>Crear una función que se cree una nueva columna que va a tener información relevante para los embeddings, .tal vez es importante tener el valor ganado de la película, o el nombre del director</h1>"
   ]
  },
  {
   "cell_type": "code",
   "execution_count": 160,
   "id": "b9a571f6-c5ec-429d-949c-777445fa0bfc",
   "metadata": {},
   "outputs": [
    {
     "name": "stdout",
     "output_type": "stream",
     "text": [
      "Index(['Unnamed: 0', 'Title', 'Certificate', 'Duration', 'Genre', 'Rate',\n",
      "       'Metascore', 'Description', 'Cast', 'Info', 'embeddings'],\n",
      "      dtype='object')\n"
     ]
    }
   ],
   "source": [
    "print(df.columns)"
   ]
  },
  {
   "cell_type": "code",
   "execution_count": 168,
   "id": "5bdd6df1-7f75-4033-a53d-8d1c7568abf2",
   "metadata": {},
   "outputs": [],
   "source": [
    "df_clasificado = df.sort_values(by='Info', ascending=False) "
   ]
  },
  {
   "cell_type": "code",
   "execution_count": 164,
   "id": "2fbd3d15-7959-4d07-840a-7d7bb0e4d021",
   "metadata": {},
   "outputs": [
    {
     "name": "stdout",
     "output_type": "stream",
     "text": [
      "     Unnamed: 0                                  Title Certificate Duration  \\\n",
      "16           16                  17. Goodfellas (1990)           R  146 min   \n",
      "237         237          240. Kill Bill: Vol. 1 (2003)           R  111 min   \n",
      "65           65                      66. WALL·E (2008)           G   98 min   \n",
      "43           43  44. Terminator 2: Judgment Day (1991)           R  137 min   \n",
      "189         189              190. The Gold Rush (1925)      Passed   95 min   \n",
      "\n",
      "                            Genre  Rate  Metascore  \\\n",
      "16        Biography, Crime, Drama   8.7       90.0   \n",
      "237       Action, Crime, Thriller   8.1       69.0   \n",
      "65   Animation, Adventure, Family   8.4       95.0   \n",
      "43                 Action, Sci-Fi   8.5       75.0   \n",
      "189      Adventure, Comedy, Drama   8.2        NaN   \n",
      "\n",
      "                                           Description  \\\n",
      "16   The story of Henry Hill and his life in the mo...   \n",
      "237  After awakening from a four-year coma, a forme...   \n",
      "65   In the distant future, a small waste-collectin...   \n",
      "43   A cyborg, identical to the one who failed to k...   \n",
      "189  A prospector goes to the Klondike in search of...   \n",
      "\n",
      "                                                  Cast  \\\n",
      "16   Director: Martin Scorsese | Stars: Robert De N...   \n",
      "237  Director: Quentin Tarantino | Stars: Uma Thurm...   \n",
      "65   Director: Andrew Stanton | Stars: Ben Burtt, E...   \n",
      "43   Director: James Cameron | Stars: Arnold Schwar...   \n",
      "189  Director: Charles Chaplin | Stars: Charles Cha...   \n",
      "\n",
      "                                 Info  \\\n",
      "16    Votes: 999,623 | Gross: $46.84M   \n",
      "237   Votes: 983,871 | Gross: $70.10M   \n",
      "65   Votes: 981,245 | Gross: $223.81M   \n",
      "43   Votes: 980,974 | Gross: $204.84M   \n",
      "189     Votes: 98,647 | Gross: $5.45M   \n",
      "\n",
      "                                            embeddings  \n",
      "16   [-0.020845532417297363, 0.06203969195485115, -...  \n",
      "237  [-0.01900213584303856, 0.03226892650127411, -0...  \n",
      "65   [0.05093105509877205, 0.07483457028865814, -0....  \n",
      "43   [-0.05519678071141243, 0.07075446844100952, -0...  \n",
      "189  [-0.01922895759344101, 0.0932217389345169, -0....  \n"
     ]
    }
   ],
   "source": [
    "print(df_clasificado.head())"
   ]
  },
  {
   "cell_type": "code",
   "execution_count": null,
   "id": "669770a1-fd32-43c7-b7de-f7c5ef95a928",
   "metadata": {},
   "outputs": [],
   "source": [
    "Director: Andrew Stanton | Stars: Ben Burtt, valor aproximado de la pelicula : $223.81M   "
   ]
  }
 ],
 "metadata": {
  "kernelspec": {
   "display_name": "Python 3 (ipykernel)",
   "language": "python",
   "name": "python3"
  },
  "language_info": {
   "codemirror_mode": {
    "name": "ipython",
    "version": 3
   },
   "file_extension": ".py",
   "mimetype": "text/x-python",
   "name": "python",
   "nbconvert_exporter": "python",
   "pygments_lexer": "ipython3",
   "version": "3.12.4"
  }
 },
 "nbformat": 4,
 "nbformat_minor": 5
}
